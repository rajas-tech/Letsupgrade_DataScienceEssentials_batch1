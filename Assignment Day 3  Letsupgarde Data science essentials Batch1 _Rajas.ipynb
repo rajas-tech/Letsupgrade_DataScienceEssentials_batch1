{
 "cells": [
  {
   "cell_type": "raw",
   "metadata": {},
   "source": [
    "Questions 1:\n",
    "Create a numpy array starting from 2 till 50 with a stepsize of 3."
   ]
  },
  {
   "cell_type": "code",
   "execution_count": 1,
   "metadata": {},
   "outputs": [
    {
     "name": "stdout",
     "output_type": "stream",
     "text": [
      "[ 2  5  8 11 14 17 20 23 26 29 32 35 38 41 44 47]\n"
     ]
    }
   ],
   "source": [
    "import numpy as np\n",
    "arr =np.arange(2,50,3)\n",
    "print(arr)"
   ]
  },
  {
   "cell_type": "raw",
   "metadata": {},
   "source": [
    "Questions 2:\n",
    "Accept two lists of 5 elements each from the user.\n",
    "Convert them to numpy arrays. Concatenate these arrays and print it. Also sort these arrays and print it.\n"
   ]
  },
  {
   "cell_type": "code",
   "execution_count": 9,
   "metadata": {},
   "outputs": [
    {
     "name": "stdout",
     "output_type": "stream",
     "text": [
      "25\n",
      "1\n",
      "22\n",
      "36\n",
      "11\n",
      "24\n",
      "22\n",
      "1\n",
      "3\n",
      "89\n",
      "[26 58 35 23 92]\n",
      "[23 26 35 58 92]\n"
     ]
    }
   ],
   "source": [
    "list1=[]\n",
    "list2=[]\n",
    "for i in range(5):\n",
    "    number1 = int(input())\n",
    "    number2 = int(input())\n",
    "    list1.append(number1)\n",
    "    list2.append(number2)\n",
    "    array1 = np.array(list1)\n",
    "    array2= np.array(list2)\n",
    "    array3=array1+array2\n",
    "\n",
    "print(array3)\n",
    "print(np.sort(array3))    \n",
    "\n",
    "\n",
    "\n"
   ]
  },
  {
   "cell_type": "raw",
   "metadata": {},
   "source": [
    "Questions 3:\n",
    "Write a code snippet to find the dimensions of a ndarray and its size."
   ]
  },
  {
   "cell_type": "code",
   "execution_count": 10,
   "metadata": {},
   "outputs": [
    {
     "name": "stdout",
     "output_type": "stream",
     "text": [
      "(3, 3)\n",
      "9\n"
     ]
    }
   ],
   "source": [
    "arr = np.array([[1,2,3],[4,5,6],[7,8,9]])\n",
    "print(arr.shape)\n",
    "print(arr.size)"
   ]
  },
  {
   "cell_type": "raw",
   "metadata": {},
   "source": [
    "Questions 4:\n",
    "How to convert a 1D array into a 2D array? Demonstrate with the help of a code snippet\n",
    "Hint: np.newaxis, np.expand_dims"
   ]
  },
  {
   "cell_type": "code",
   "execution_count": 15,
   "metadata": {},
   "outputs": [
    {
     "name": "stdout",
     "output_type": "stream",
     "text": [
      "1-D Array [ 0  1  2  3  4  5  6  7  8  9 10 11]\n",
      " 2-D Array [[ 0  1  2]\n",
      " [ 3  4  5]\n",
      " [ 6  7  8]\n",
      " [ 9 10 11]]\n"
     ]
    }
   ],
   "source": [
    "arr = np.arange(12)\n",
    "print(\"1-D Array\",arr)\n",
    "arr = arr.reshape(4,3)\n",
    "print(\" 2-D Array\",arr)"
   ]
  },
  {
   "cell_type": "raw",
   "metadata": {},
   "source": [
    "Questions 5:\n",
    "Consider two square numpy arrays. Stack them vertically and horizontally.\n",
    "Hint: Use vstack(), hstack() "
   ]
  },
  {
   "cell_type": "code",
   "execution_count": 16,
   "metadata": {},
   "outputs": [
    {
     "name": "stdout",
     "output_type": "stream",
     "text": [
      "Horizontal Append: [1 2 3 4 5 6]\n",
      "Vertical Append: [[1 2 3]\n",
      " [4 5 6]]\n"
     ]
    }
   ],
   "source": [
    "f = np.array([1,2,3])\n",
    "g = np.array([4,5,6])\n",
    "print('Horizontal Append:', np.hstack((f, g)))\n",
    "print('Vertical Append:', np.vstack((f, g)))"
   ]
  },
  {
   "cell_type": "raw",
   "metadata": {},
   "source": [
    "Questions 6:\n",
    "How to get unique items and counts of unique items?"
   ]
  },
  {
   "cell_type": "code",
   "execution_count": 18,
   "metadata": {},
   "outputs": [
    {
     "name": "stdout",
     "output_type": "stream",
     "text": [
      "Original Numpy Array :  [11 11 12 13 14 15 16 17 12 13 11 14 18]\n",
      "Unique Values :  [11 12 13 14 15 16 17 18]\n",
      "Occurrence Count :  [3 2 2 2 1 1 1 1]\n"
     ]
    }
   ],
   "source": [
    "arr = np.array([11, 11, 12, 13, 14, 15, 16, 17, 12, 13, 11, 14, 18])\n",
    "print('Original Numpy Array : ' , arr)\n",
    "\n",
    "uniqueValues, occurCount = np.unique(arr, return_counts=True)\n",
    "print(\"Unique Values : \" , uniqueValues)\n",
    "print(\"Occurrence Count : \", occurCount)\n",
    "\n"
   ]
  },
  {
   "cell_type": "code",
   "execution_count": null,
   "metadata": {},
   "outputs": [],
   "source": []
  }
 ],
 "metadata": {
  "kernelspec": {
   "display_name": "Python 3",
   "language": "python",
   "name": "python3"
  },
  "language_info": {
   "codemirror_mode": {
    "name": "ipython",
    "version": 3
   },
   "file_extension": ".py",
   "mimetype": "text/x-python",
   "name": "python",
   "nbconvert_exporter": "python",
   "pygments_lexer": "ipython3",
   "version": "3.6.5"
  }
 },
 "nbformat": 4,
 "nbformat_minor": 2
}
